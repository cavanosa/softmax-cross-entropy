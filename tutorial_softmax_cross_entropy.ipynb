{
  "nbformat": 4,
  "nbformat_minor": 0,
  "metadata": {
    "colab": {
      "name": "tutorial_softmax_cross_entropy.ipynb",
      "provenance": [],
      "collapsed_sections": [],
      "authorship_tag": "ABX9TyMTjt+cj65IWV6jNxeRegDq"
    },
    "kernelspec": {
      "name": "python3",
      "display_name": "Python 3"
    },
    "language_info": {
      "name": "python"
    }
  },
  "cells": [
    {
      "cell_type": "code",
      "metadata": {
        "id": "vrjioU79FSQ4"
      },
      "source": [
        "import numpy as np\n",
        "import matplotlib.pyplot as plt\n",
        "from sklearn.datasets import load_iris"
      ],
      "execution_count": null,
      "outputs": []
    },
    {
      "cell_type": "code",
      "metadata": {
        "id": "lJpoUWIYK9y_"
      },
      "source": [
        "flowers = load_iris()"
      ],
      "execution_count": null,
      "outputs": []
    },
    {
      "cell_type": "code",
      "metadata": {
        "id": "-XcA_sBsLCKP",
        "colab": {
          "base_uri": "https://localhost:8080/"
        },
        "outputId": "8f81e452-8da3-4d41-d181-90dcb53c147d"
      },
      "source": [
        "flowers.target.shape"
      ],
      "execution_count": null,
      "outputs": [
        {
          "output_type": "execute_result",
          "data": {
            "text/plain": [
              "(150,)"
            ]
          },
          "metadata": {
            "tags": []
          },
          "execution_count": 3
        }
      ]
    },
    {
      "cell_type": "code",
      "metadata": {
        "id": "dWmT5cU5LbGv"
      },
      "source": [
        "class NeuralNet():\n",
        "  def __init__(self, input_size, hidden_size, output_size):\n",
        "    self.input_size = input_size\n",
        "    self.hidden_size = hidden_size\n",
        "    self.output_size = output_size\n",
        "\n",
        "    self.W1 = np.random.randn(self.input_size, self.hidden_size)\n",
        "    self.W2 = np.random.randn(self.hidden_size, self.output_size)\n",
        "\n",
        "    self.b1 = np.zeros((1, self.hidden_size))\n",
        "    self.b2 = np.zeros((1, self.output_size))\n",
        "\n",
        "  def relu(self, x):\n",
        "    return np.maximum(0, x)\n",
        "\n",
        "  def relu_derivative(self, x):\n",
        "    return (x > 0) * 1\n",
        "\n",
        "  def softmax(self, x):\n",
        "    exp = np.exp(x) / np.sum(np.exp(x), axis=1, keepdims=True)\n",
        "    return exp\n",
        "\n",
        "  def cross_entropy(self, output, y):\n",
        "    target = self.one_hot(y)\n",
        "    loss = - np.mean(target * np.log(output + 1e-8))\n",
        "    return loss\n",
        "\n",
        "  def accuracy(self, output, target):\n",
        "    preds = np.argmax(output, axis=1)\n",
        "    return np.sum(preds == target) / target.size\n",
        "\n",
        "  def one_hot(self, y):\n",
        "    one_hot_array = np.zeros((y.size, y.max() + 1))\n",
        "    one_hot_array[np.arange(y.size), y] = 1\n",
        "    return one_hot_array\n",
        "\n",
        "  def forward(self, X):\n",
        "    self.z1 = np.dot(X, self.W1) + self.b1\n",
        "    self.a1 = self.relu(self.z1)\n",
        "    self.z2 = np.dot(self.a1, self.W2) + self.b2\n",
        "    self.output = self.softmax(self.z2)\n",
        "    return self.output\n",
        "\n",
        "  def backprop(self, X, y):\n",
        "    output = self.forward(X)\n",
        "    target = self.one_hot(y)\n",
        "    delta_out = output - target\n",
        "    dW2 = np.dot(self.a1.T, delta_out)\n",
        "    db2 = np.sum(delta_out, axis=0, keepdims=True)\n",
        "    error_hidden = np.dot(delta_out, self.W2.T)\n",
        "    delta_hidden = error_hidden * self.relu_derivative(self.z1)\n",
        "    dW1 = np.dot(X.T, delta_hidden)\n",
        "    db1 = np.sum(delta_hidden, axis=0, keepdims=True)\n",
        "    return dW2, db2, dW1, db1\n",
        "\n",
        "  def gradient_desc(self, dW2, db2, dW1, db1, lr):\n",
        "    self.W2 -= dW2 * lr\n",
        "    self.b2 -= db2 * lr\n",
        "    self.W1 -= dW1 * lr\n",
        "    self.b1 -= db1 * lr\n",
        "\n",
        "  def train(self, epochs, X, y, lr):\n",
        "    oks = []\n",
        "    fails = []\n",
        "    for i in range(epochs):\n",
        "      output = self.forward(X)\n",
        "      dW2, db2, dW1, db1 = self.backprop(X, y)\n",
        "      ok = self.accuracy(output, y)\n",
        "      oks.append(ok)\n",
        "      fail = self.cross_entropy(output, y)\n",
        "      fails.append(fail)\n",
        "      self.gradient_desc(dW2, db2, dW1, db1, lr)\n",
        "    X_axis = range(epochs)\n",
        "    plt.plot(X_axis, oks, c='green')\n",
        "    plt.plot(X_axis, fails, c='red')\n",
        "    plt.legend(['Accuracy', 'Loss'])"
      ],
      "execution_count": null,
      "outputs": []
    },
    {
      "cell_type": "code",
      "metadata": {
        "id": "vcHkoQybMFjx"
      },
      "source": [
        "X = flowers.data\n",
        "y = flowers.target\n",
        "# normalizar los inputs\n",
        "X = X / np.max(X, axis=0, keepdims=True)"
      ],
      "execution_count": null,
      "outputs": []
    },
    {
      "cell_type": "code",
      "metadata": {
        "colab": {
          "base_uri": "https://localhost:8080/",
          "height": 265
        },
        "id": "YMAF2crqMVP4",
        "outputId": "55b29e11-3da3-4944-c218-651de937d4c3"
      },
      "source": [
        "nn = NeuralNet(X.shape[1], 8, y.max() + 1)\n",
        "nn.train(250, X, y, 0.001)"
      ],
      "execution_count": null,
      "outputs": [
        {
          "output_type": "display_data",
          "data": {
            "image/png": "[encoded data removed]",
            "text/plain": [
              "<Figure size 432x288 with 1 Axes>"
            ]
          },
          "metadata": {
            "tags": [],
            "needs_background": "light"
          }
        }
      ]
    },
    {
      "cell_type": "code",
      "metadata": {
        "id": "PLNWuPNDWzPo"
      },
      "source": [
        "np.log(1e-8)"
      ],
      "execution_count": null,
      "outputs": []
    },
    {
      "cell_type": "code",
      "metadata": {
        "id": "ao9HHD2kReun"
      },
      "source": [
        "X"
      ],
      "execution_count": null,
      "outputs": []
    },
    {
      "cell_type": "code",
      "metadata": {
        "id": "3aw3KDxIR5lo"
      },
      "source": [
        "for i in range(X.shape[1]):\n",
        "  print(f'El mínimo en {i} es {np.min(X[:, i])}')\n",
        "  print(f'El máximo en {i} es {np.max(X[:, i])}')"
      ],
      "execution_count": null,
      "outputs": []
    }
  ]
}