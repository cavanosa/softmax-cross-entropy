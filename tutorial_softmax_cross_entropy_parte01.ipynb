{
  "nbformat": 4,
  "nbformat_minor": 0,
  "metadata": {
    "colab": {
      "name": "tutorial_softmax_cross_entropy_parte01.ipynb",
      "provenance": [],
      "collapsed_sections": [],
      "authorship_tag": "ABX9TyOOhGizMMW2nuxgGYZUmCSb"
    },
    "kernelspec": {
      "name": "python3",
      "display_name": "Python 3"
    },
    "language_info": {
      "name": "python"
    }
  },
  "cells": [
    {
      "cell_type": "code",
      "metadata": {
        "id": "sOLNZ2ySQ0DM"
      },
      "source": [
        "import numpy as np\n",
        "import matplotlib.pyplot as plt\n",
        "from sklearn.datasets import load_iris"
      ],
      "execution_count": null,
      "outputs": []
    },
    {
      "cell_type": "code",
      "metadata": {
        "id": "NfY8qKKXQ78o"
      },
      "source": [
        "flowers = load_iris()"
      ],
      "execution_count": null,
      "outputs": []
    },
    {
      "cell_type": "code",
      "metadata": {
        "id": "MrAKTgsRRAww"
      },
      "source": [
        "class NeuralNet():\n",
        "  def __init__(self, input_size, hidden_size, output_size):\n",
        "    self.input_size = input_size\n",
        "    self.hidden_size = hidden_size\n",
        "    self.output_size = output_size\n",
        "\n",
        "    self.W1 = np.random.randn(self.input_size, self.hidden_size)\n",
        "    self.W2 = np.random.randn(self.hidden_size, self.output_size)\n",
        "\n",
        "    self.b1 = np.zeros((1, self.hidden_size))\n",
        "    self.b2 = np.zeros((1, self.output_size))\n",
        "\n",
        "  def forward(self, X):\n",
        "    # TODO add bias to zi\n",
        "    self.z1 = np.dot(X, self.W1)\n",
        "    self.a1 = self.relu(self.z1)\n",
        "    self.z2 = np.dot(self.a1, self.W2)\n",
        "    self.output = self.softmax(self.z2)\n",
        "    return self.output\n",
        "\n",
        "  def relu(self, x):\n",
        "    return np.maximum(0, x)\n",
        "\n",
        "  def softmax(self, x):\n",
        "    exp = np.exp(x) / np.sum(np.exp(x), axis=1, keepdims=True)\n",
        "    return exp"
      ],
      "execution_count": null,
      "outputs": []
    },
    {
      "cell_type": "code",
      "metadata": {
        "id": "uCfXWgqcRe7I"
      },
      "source": [
        "X = flowers.data\n",
        "y = flowers.target"
      ],
      "execution_count": null,
      "outputs": []
    },
    {
      "cell_type": "code",
      "metadata": {
        "id": "elEAaHWVRkUg"
      },
      "source": [
        "nn = NeuralNet(X.shape[1], 8, y.max() + 1)\n",
        "nnforward(X)"
      ],
      "execution_count": null,
      "outputs": []
    }
  ]
}